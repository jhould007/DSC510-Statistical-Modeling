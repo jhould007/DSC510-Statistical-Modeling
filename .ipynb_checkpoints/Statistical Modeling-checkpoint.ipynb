{
 "cells": [
  {
   "cell_type": "markdown",
   "id": "dffbdf47",
   "metadata": {},
   "source": [
    "# Statistical Modeling\n",
    "By Josh Houlding\n",
    "\n",
    "In this assignment, you will perform hypothesis testing, calculate correlation coefficients, build linear regression models, and diagnose potential issues in the models using Python.\n",
    "\n",
    "### Task 1\n",
    "<b>Hypothesis:</b> Locate a dataset containing the heights, weights, and ages of at least 500 individual males and females. Conduct a hypothesis test to determine whether there is a significant difference in the mean weight between males and females. Write a report discussing your findings, including relevant statistics, visualizations, and interpretations. Use Python to perform the analysis and include the relevant code in a Jupyter notebook.\n",
    "\n",
    "Dataset used: [Risk Factors for Cardiovascular Heart Disease | Kaggle](https://www.kaggle.com/datasets/thedevastator/exploring-risk-factors-for-cardiovascular-diseas/data)\n",
    "\n",
    "\n",
    "<b>Initial Units</b>\n",
    "* `age`: days\n",
    "* `gender`: 1 for male, 2 for female\n",
    "* `height`: cm\n",
    "* `weight`: kg"
   ]
  },
  {
   "cell_type": "markdown",
   "id": "a308a776",
   "metadata": {},
   "source": [
    "### Cleaning the data"
   ]
  },
  {
   "cell_type": "code",
   "execution_count": 265,
   "id": "de774ecd",
   "metadata": {},
   "outputs": [
    {
     "data": {
      "text/html": [
       "<div>\n",
       "<style scoped>\n",
       "    .dataframe tbody tr th:only-of-type {\n",
       "        vertical-align: middle;\n",
       "    }\n",
       "\n",
       "    .dataframe tbody tr th {\n",
       "        vertical-align: top;\n",
       "    }\n",
       "\n",
       "    .dataframe thead th {\n",
       "        text-align: right;\n",
       "    }\n",
       "</style>\n",
       "<table border=\"1\" class=\"dataframe\">\n",
       "  <thead>\n",
       "    <tr style=\"text-align: right;\">\n",
       "      <th></th>\n",
       "      <th>index</th>\n",
       "      <th>id</th>\n",
       "      <th>age</th>\n",
       "      <th>gender</th>\n",
       "      <th>height</th>\n",
       "      <th>weight</th>\n",
       "      <th>ap_hi</th>\n",
       "      <th>ap_lo</th>\n",
       "      <th>cholesterol</th>\n",
       "      <th>gluc</th>\n",
       "      <th>smoke</th>\n",
       "      <th>alco</th>\n",
       "      <th>active</th>\n",
       "      <th>cardio</th>\n",
       "    </tr>\n",
       "  </thead>\n",
       "  <tbody>\n",
       "    <tr>\n",
       "      <th>0</th>\n",
       "      <td>0</td>\n",
       "      <td>0</td>\n",
       "      <td>18393</td>\n",
       "      <td>2</td>\n",
       "      <td>168</td>\n",
       "      <td>62.0</td>\n",
       "      <td>110</td>\n",
       "      <td>80</td>\n",
       "      <td>1</td>\n",
       "      <td>1</td>\n",
       "      <td>0</td>\n",
       "      <td>0</td>\n",
       "      <td>1</td>\n",
       "      <td>0</td>\n",
       "    </tr>\n",
       "    <tr>\n",
       "      <th>1</th>\n",
       "      <td>1</td>\n",
       "      <td>1</td>\n",
       "      <td>20228</td>\n",
       "      <td>1</td>\n",
       "      <td>156</td>\n",
       "      <td>85.0</td>\n",
       "      <td>140</td>\n",
       "      <td>90</td>\n",
       "      <td>3</td>\n",
       "      <td>1</td>\n",
       "      <td>0</td>\n",
       "      <td>0</td>\n",
       "      <td>1</td>\n",
       "      <td>1</td>\n",
       "    </tr>\n",
       "    <tr>\n",
       "      <th>2</th>\n",
       "      <td>2</td>\n",
       "      <td>2</td>\n",
       "      <td>18857</td>\n",
       "      <td>1</td>\n",
       "      <td>165</td>\n",
       "      <td>64.0</td>\n",
       "      <td>130</td>\n",
       "      <td>70</td>\n",
       "      <td>3</td>\n",
       "      <td>1</td>\n",
       "      <td>0</td>\n",
       "      <td>0</td>\n",
       "      <td>0</td>\n",
       "      <td>1</td>\n",
       "    </tr>\n",
       "    <tr>\n",
       "      <th>3</th>\n",
       "      <td>3</td>\n",
       "      <td>3</td>\n",
       "      <td>17623</td>\n",
       "      <td>2</td>\n",
       "      <td>169</td>\n",
       "      <td>82.0</td>\n",
       "      <td>150</td>\n",
       "      <td>100</td>\n",
       "      <td>1</td>\n",
       "      <td>1</td>\n",
       "      <td>0</td>\n",
       "      <td>0</td>\n",
       "      <td>1</td>\n",
       "      <td>1</td>\n",
       "    </tr>\n",
       "    <tr>\n",
       "      <th>4</th>\n",
       "      <td>4</td>\n",
       "      <td>4</td>\n",
       "      <td>17474</td>\n",
       "      <td>1</td>\n",
       "      <td>156</td>\n",
       "      <td>56.0</td>\n",
       "      <td>100</td>\n",
       "      <td>60</td>\n",
       "      <td>1</td>\n",
       "      <td>1</td>\n",
       "      <td>0</td>\n",
       "      <td>0</td>\n",
       "      <td>0</td>\n",
       "      <td>0</td>\n",
       "    </tr>\n",
       "  </tbody>\n",
       "</table>\n",
       "</div>"
      ],
      "text/plain": [
       "   index  id    age  gender  height  weight  ap_hi  ap_lo  cholesterol  gluc  \\\n",
       "0      0   0  18393       2     168    62.0    110     80            1     1   \n",
       "1      1   1  20228       1     156    85.0    140     90            3     1   \n",
       "2      2   2  18857       1     165    64.0    130     70            3     1   \n",
       "3      3   3  17623       2     169    82.0    150    100            1     1   \n",
       "4      4   4  17474       1     156    56.0    100     60            1     1   \n",
       "\n",
       "   smoke  alco  active  cardio  \n",
       "0      0     0       1       0  \n",
       "1      0     0       1       1  \n",
       "2      0     0       0       1  \n",
       "3      0     0       1       1  \n",
       "4      0     0       0       0  "
      ]
     },
     "execution_count": 265,
     "metadata": {},
     "output_type": "execute_result"
    }
   ],
   "source": [
    "# Import useful libraries\n",
    "import pandas as pd\n",
    "import numpy as np\n",
    "import scipy.stats as stats\n",
    "import math\n",
    "import matplotlib.pyplot as plt \n",
    "from sklearn.linear_model import LinearRegression\n",
    "from scipy.stats import boxcox\n",
    "\n",
    "# Load the dataset \n",
    "df = pd.read_csv(\"heart_data.csv\")\n",
    "df.head()"
   ]
  },
  {
   "cell_type": "code",
   "execution_count": 266,
   "id": "78d370f4",
   "metadata": {},
   "outputs": [
    {
     "data": {
      "text/html": [
       "<div>\n",
       "<style scoped>\n",
       "    .dataframe tbody tr th:only-of-type {\n",
       "        vertical-align: middle;\n",
       "    }\n",
       "\n",
       "    .dataframe tbody tr th {\n",
       "        vertical-align: top;\n",
       "    }\n",
       "\n",
       "    .dataframe thead th {\n",
       "        text-align: right;\n",
       "    }\n",
       "</style>\n",
       "<table border=\"1\" class=\"dataframe\">\n",
       "  <thead>\n",
       "    <tr style=\"text-align: right;\">\n",
       "      <th></th>\n",
       "      <th>id</th>\n",
       "      <th>age</th>\n",
       "      <th>gender</th>\n",
       "      <th>height</th>\n",
       "      <th>weight</th>\n",
       "    </tr>\n",
       "  </thead>\n",
       "  <tbody>\n",
       "    <tr>\n",
       "      <th>0</th>\n",
       "      <td>0</td>\n",
       "      <td>18393</td>\n",
       "      <td>2</td>\n",
       "      <td>168</td>\n",
       "      <td>62.0</td>\n",
       "    </tr>\n",
       "    <tr>\n",
       "      <th>1</th>\n",
       "      <td>1</td>\n",
       "      <td>20228</td>\n",
       "      <td>1</td>\n",
       "      <td>156</td>\n",
       "      <td>85.0</td>\n",
       "    </tr>\n",
       "    <tr>\n",
       "      <th>2</th>\n",
       "      <td>2</td>\n",
       "      <td>18857</td>\n",
       "      <td>1</td>\n",
       "      <td>165</td>\n",
       "      <td>64.0</td>\n",
       "    </tr>\n",
       "    <tr>\n",
       "      <th>3</th>\n",
       "      <td>3</td>\n",
       "      <td>17623</td>\n",
       "      <td>2</td>\n",
       "      <td>169</td>\n",
       "      <td>82.0</td>\n",
       "    </tr>\n",
       "    <tr>\n",
       "      <th>4</th>\n",
       "      <td>4</td>\n",
       "      <td>17474</td>\n",
       "      <td>1</td>\n",
       "      <td>156</td>\n",
       "      <td>56.0</td>\n",
       "    </tr>\n",
       "  </tbody>\n",
       "</table>\n",
       "</div>"
      ],
      "text/plain": [
       "   id    age  gender  height  weight\n",
       "0   0  18393       2     168    62.0\n",
       "1   1  20228       1     156    85.0\n",
       "2   2  18857       1     165    64.0\n",
       "3   3  17623       2     169    82.0\n",
       "4   4  17474       1     156    56.0"
      ]
     },
     "execution_count": 266,
     "metadata": {},
     "output_type": "execute_result"
    }
   ],
   "source": [
    "# Remove unnecessary columns\n",
    "columns_to_drop = [\"index\", \"ap_hi\", \"ap_lo\", \"cholesterol\", \"gluc\", \"smoke\", \"alco\", \"active\", \"cardio\"]\n",
    "df = df.drop(columns=columns_to_drop)\n",
    "df.head()"
   ]
  },
  {
   "cell_type": "code",
   "execution_count": 267,
   "id": "63903064",
   "metadata": {},
   "outputs": [
    {
     "data": {
      "text/html": [
       "<div>\n",
       "<style scoped>\n",
       "    .dataframe tbody tr th:only-of-type {\n",
       "        vertical-align: middle;\n",
       "    }\n",
       "\n",
       "    .dataframe tbody tr th {\n",
       "        vertical-align: top;\n",
       "    }\n",
       "\n",
       "    .dataframe thead th {\n",
       "        text-align: right;\n",
       "    }\n",
       "</style>\n",
       "<table border=\"1\" class=\"dataframe\">\n",
       "  <thead>\n",
       "    <tr style=\"text-align: right;\">\n",
       "      <th></th>\n",
       "      <th>id</th>\n",
       "      <th>age</th>\n",
       "      <th>gender</th>\n",
       "      <th>height</th>\n",
       "      <th>weight</th>\n",
       "    </tr>\n",
       "  </thead>\n",
       "  <tbody>\n",
       "    <tr>\n",
       "      <th>0</th>\n",
       "      <td>0</td>\n",
       "      <td>50</td>\n",
       "      <td>2</td>\n",
       "      <td>168</td>\n",
       "      <td>62.0</td>\n",
       "    </tr>\n",
       "    <tr>\n",
       "      <th>1</th>\n",
       "      <td>1</td>\n",
       "      <td>55</td>\n",
       "      <td>1</td>\n",
       "      <td>156</td>\n",
       "      <td>85.0</td>\n",
       "    </tr>\n",
       "    <tr>\n",
       "      <th>2</th>\n",
       "      <td>2</td>\n",
       "      <td>52</td>\n",
       "      <td>1</td>\n",
       "      <td>165</td>\n",
       "      <td>64.0</td>\n",
       "    </tr>\n",
       "    <tr>\n",
       "      <th>3</th>\n",
       "      <td>3</td>\n",
       "      <td>48</td>\n",
       "      <td>2</td>\n",
       "      <td>169</td>\n",
       "      <td>82.0</td>\n",
       "    </tr>\n",
       "    <tr>\n",
       "      <th>4</th>\n",
       "      <td>4</td>\n",
       "      <td>48</td>\n",
       "      <td>1</td>\n",
       "      <td>156</td>\n",
       "      <td>56.0</td>\n",
       "    </tr>\n",
       "  </tbody>\n",
       "</table>\n",
       "</div>"
      ],
      "text/plain": [
       "   id  age  gender  height  weight\n",
       "0   0   50       2     168    62.0\n",
       "1   1   55       1     156    85.0\n",
       "2   2   52       1     165    64.0\n",
       "3   3   48       2     169    82.0\n",
       "4   4   48       1     156    56.0"
      ]
     },
     "execution_count": 267,
     "metadata": {},
     "output_type": "execute_result"
    }
   ],
   "source": [
    "# Convert age from days to years\n",
    "df[\"age\"] = round(df[\"age\"] / 365, 0).astype(int)\n",
    "df.head()"
   ]
  },
  {
   "cell_type": "code",
   "execution_count": 268,
   "id": "70380e96",
   "metadata": {},
   "outputs": [
    {
     "data": {
      "text/html": [
       "<div>\n",
       "<style scoped>\n",
       "    .dataframe tbody tr th:only-of-type {\n",
       "        vertical-align: middle;\n",
       "    }\n",
       "\n",
       "    .dataframe tbody tr th {\n",
       "        vertical-align: top;\n",
       "    }\n",
       "\n",
       "    .dataframe thead th {\n",
       "        text-align: right;\n",
       "    }\n",
       "</style>\n",
       "<table border=\"1\" class=\"dataframe\">\n",
       "  <thead>\n",
       "    <tr style=\"text-align: right;\">\n",
       "      <th></th>\n",
       "      <th>id</th>\n",
       "      <th>age</th>\n",
       "      <th>gender</th>\n",
       "      <th>height</th>\n",
       "      <th>weight</th>\n",
       "    </tr>\n",
       "  </thead>\n",
       "  <tbody>\n",
       "    <tr>\n",
       "      <th>0</th>\n",
       "      <td>0</td>\n",
       "      <td>50</td>\n",
       "      <td>F</td>\n",
       "      <td>168</td>\n",
       "      <td>62.0</td>\n",
       "    </tr>\n",
       "    <tr>\n",
       "      <th>1</th>\n",
       "      <td>1</td>\n",
       "      <td>55</td>\n",
       "      <td>M</td>\n",
       "      <td>156</td>\n",
       "      <td>85.0</td>\n",
       "    </tr>\n",
       "    <tr>\n",
       "      <th>2</th>\n",
       "      <td>2</td>\n",
       "      <td>52</td>\n",
       "      <td>M</td>\n",
       "      <td>165</td>\n",
       "      <td>64.0</td>\n",
       "    </tr>\n",
       "    <tr>\n",
       "      <th>3</th>\n",
       "      <td>3</td>\n",
       "      <td>48</td>\n",
       "      <td>F</td>\n",
       "      <td>169</td>\n",
       "      <td>82.0</td>\n",
       "    </tr>\n",
       "    <tr>\n",
       "      <th>4</th>\n",
       "      <td>4</td>\n",
       "      <td>48</td>\n",
       "      <td>M</td>\n",
       "      <td>156</td>\n",
       "      <td>56.0</td>\n",
       "    </tr>\n",
       "  </tbody>\n",
       "</table>\n",
       "</div>"
      ],
      "text/plain": [
       "   id  age gender  height  weight\n",
       "0   0   50      F     168    62.0\n",
       "1   1   55      M     156    85.0\n",
       "2   2   52      M     165    64.0\n",
       "3   3   48      F     169    82.0\n",
       "4   4   48      M     156    56.0"
      ]
     },
     "execution_count": 268,
     "metadata": {},
     "output_type": "execute_result"
    }
   ],
   "source": [
    "# Convert gender to \"M\" for male and \"F\" for female\n",
    "df[\"gender\"] = df[\"gender\"].astype(object)\n",
    "df[\"gender\"] = np.where(df[\"gender\"] == 1, \"M\", df[\"gender\"])\n",
    "df[\"gender\"] = np.where(df[\"gender\"] == 2, \"F\", df[\"gender\"])\n",
    "df.head()"
   ]
  },
  {
   "cell_type": "markdown",
   "id": "1e533d22",
   "metadata": {},
   "source": [
    "### Conducting a hypothesis test\n",
    "\n",
    "Let $\\mu_{male}$ denote the population mean weight for males, and $\\mu_{female}$ denote that of females. \n",
    "\n",
    "$H_0$: There is no significant difference in mean weight between males and females ($\\mu_{male} = \\mu_{female}$). \n",
    "\n",
    "$H_a$: There is a significant difference in mean weight between males and females ($\\mu_{male} \\neq \\mu_{female}$). "
   ]
  },
  {
   "cell_type": "code",
   "execution_count": 269,
   "id": "57639da9",
   "metadata": {},
   "outputs": [
    {
     "name": "stdout",
     "output_type": "stream",
     "text": [
      "t-statistic: -41.6215512136182\n",
      "P-value: 0.0\n"
     ]
    }
   ],
   "source": [
    "# Get weight data for males and females\n",
    "male_weights = df[df[\"gender\"] == \"M\"][\"weight\"]\n",
    "female_weights = df[df[\"gender\"] == \"F\"][\"weight\"]\n",
    "\n",
    "# Perform two-sample t-test\n",
    "t_stat, p_value = stats.ttest_ind(male_weights, female_weights) \n",
    "print(\"t-statistic:\", t_stat)\n",
    "print(\"P-value:\", p_value)"
   ]
  },
  {
   "cell_type": "markdown",
   "id": "3bd4ac1f",
   "metadata": {},
   "source": [
    "After performing a two-sample t-test to compare $\\mu_{male}$ and $\\mu_{female}$, we find that the P-value is significantly less than alpha, meaning we reject $H_0$. That is to say, we conclude that the difference in mean weights between males and females is statistically significant.  \n",
    "\n",
    "### Task 2\n",
    "<b>Correlation Coefficient:</b> Using the same dataset as in Task 1, calculate the correlation coefficient between height and weight. Interpret the coefficient and visualize the relationship between the two variables using a scatter plot. Write a report discussing your findings, including relevant statistics, visualizations, and interpretations. Use Python to perform the analysis and include the relevant code in a Jupyter notebook.\n",
    "\n",
    "<i>We will be taking a random sample of 300 individuals, since that is a reasonable number of data points to fit on a scatterplot. We assume that the correlation coefficient between height and weight for this sample is representative of the overall dataset.</i>"
   ]
  },
  {
   "cell_type": "code",
   "execution_count": 270,
   "id": "bc09fbe4",
   "metadata": {},
   "outputs": [
    {
     "data": {
      "text/html": [
       "<div>\n",
       "<style scoped>\n",
       "    .dataframe tbody tr th:only-of-type {\n",
       "        vertical-align: middle;\n",
       "    }\n",
       "\n",
       "    .dataframe tbody tr th {\n",
       "        vertical-align: top;\n",
       "    }\n",
       "\n",
       "    .dataframe thead th {\n",
       "        text-align: right;\n",
       "    }\n",
       "</style>\n",
       "<table border=\"1\" class=\"dataframe\">\n",
       "  <thead>\n",
       "    <tr style=\"text-align: right;\">\n",
       "      <th></th>\n",
       "      <th>height</th>\n",
       "      <th>weight</th>\n",
       "    </tr>\n",
       "  </thead>\n",
       "  <tbody>\n",
       "    <tr>\n",
       "      <th>height</th>\n",
       "      <td>1.000000</td>\n",
       "      <td>0.334784</td>\n",
       "    </tr>\n",
       "    <tr>\n",
       "      <th>weight</th>\n",
       "      <td>0.334784</td>\n",
       "      <td>1.000000</td>\n",
       "    </tr>\n",
       "  </tbody>\n",
       "</table>\n",
       "</div>"
      ],
      "text/plain": [
       "          height    weight\n",
       "height  1.000000  0.334784\n",
       "weight  0.334784  1.000000"
      ]
     },
     "execution_count": 270,
     "metadata": {},
     "output_type": "execute_result"
    }
   ],
   "source": [
    "# Take random sample of 300 individuals\n",
    "sample = df.sample(n=300, random_state=42)\n",
    "sample = sample.drop(columns={\"id\", \"age\", \"gender\"})\n",
    "sample.head()\n",
    "\n",
    "# Create correlation matrix to find corr. coeff. between height and weight\n",
    "sample.corr()"
   ]
  },
  {
   "cell_type": "markdown",
   "id": "0d73040a",
   "metadata": {},
   "source": [
    "The correlation coefficient is ~0.33, suggesting a fairly weak correlation between height and weight. On average, a 1-centimeter increase in height corresponds to a ~0.33 kg increase in weight. \n",
    "\n",
    "Let's visualize this sample in a scatterplot.  "
   ]
  },
  {
   "cell_type": "code",
   "execution_count": 271,
   "id": "ba53ff30",
   "metadata": {},
   "outputs": [
    {
     "data": {
      "image/png": "[encoded data removed]",
      "text/plain": [
       "<Figure size 640x480 with 1 Axes>"
      ]
     },
     "metadata": {},
     "output_type": "display_data"
    }
   ],
   "source": [
    "# Create scatterplot\n",
    "plt.scatter(sample[\"height\"], sample[\"weight\"])\n",
    "plt.xlabel(\"Height (cm)\")\n",
    "plt.ylabel(\"Weight (kg)\")\n",
    "plt.title(\"Plot of Height vs. Weight\")\n",
    "plt.show()"
   ]
  },
  {
   "cell_type": "markdown",
   "id": "b345b11b",
   "metadata": {},
   "source": [
    "### Task 3\n",
    "<b>Linear Regression Model:</b> Using the same dataset as in Task 1, build a linear regression model to predict weight based on height. Perform model verification to determine potential issues, such as heteroscedasticity or multicollinearity, and address any identified issues. Write a report discussing your findings, including relevant statistics, visualizations, and interpretations. Use Python to perform the analysis and include the relevant code in a Jupyter notebook."
   ]
  },
  {
   "cell_type": "code",
   "execution_count": 272,
   "id": "263d0c55",
   "metadata": {},
   "outputs": [
    {
     "name": "stdout",
     "output_type": "stream",
     "text": [
      "Regression coefficient: 0.497\n",
      "Intercept: -7.462\n"
     ]
    }
   ],
   "source": [
    "# Get dataframe with only weight and height\n",
    "df_height_weight = df.drop(columns={\"id\", \"age\", \"gender\"})\n",
    "\n",
    "# Split into train and test data; 70% for training and 30% for testing\n",
    "train_data = df_height_weight.iloc[:int(0.7*len(df_height_weight))].copy()\n",
    "test_data = df_height_weight.iloc[int(0.7*len(df_height_weight)):].copy()\n",
    "\n",
    "# Build and train the model \n",
    "height_train = train_data[[\"height\"]]\n",
    "weight_train = train_data[\"weight\"]\n",
    "model = LinearRegression()\n",
    "model.fit(height_train, weight_train)\n",
    "\n",
    "# Print details of the model equation\n",
    "print(\"Regression coefficient:\", str(round(model.coef_[0], 3)))\n",
    "print(\"Intercept:\", str(round(model.intercept_, 3)))"
   ]
  },
  {
   "cell_type": "markdown",
   "id": "b73bd8d6",
   "metadata": {},
   "source": [
    "The regression equation for this data is $w = 0.497h - 7.462$, where $w$ is weight and $h$ is height."
   ]
  },
  {
   "cell_type": "code",
   "execution_count": 273,
   "id": "03d4d555",
   "metadata": {
    "scrolled": true
   },
   "outputs": [
    {
     "data": {
      "text/html": [
       "<div>\n",
       "<style scoped>\n",
       "    .dataframe tbody tr th:only-of-type {\n",
       "        vertical-align: middle;\n",
       "    }\n",
       "\n",
       "    .dataframe tbody tr th {\n",
       "        vertical-align: top;\n",
       "    }\n",
       "\n",
       "    .dataframe thead th {\n",
       "        text-align: right;\n",
       "    }\n",
       "</style>\n",
       "<table border=\"1\" class=\"dataframe\">\n",
       "  <thead>\n",
       "    <tr style=\"text-align: right;\">\n",
       "      <th></th>\n",
       "      <th>height</th>\n",
       "      <th>weight</th>\n",
       "      <th>weight_pred</th>\n",
       "      <th>residual</th>\n",
       "    </tr>\n",
       "  </thead>\n",
       "  <tbody>\n",
       "    <tr>\n",
       "      <th>49000</th>\n",
       "      <td>165</td>\n",
       "      <td>60.0</td>\n",
       "      <td>74.549148</td>\n",
       "      <td>-14.549148</td>\n",
       "    </tr>\n",
       "    <tr>\n",
       "      <th>49001</th>\n",
       "      <td>168</td>\n",
       "      <td>98.0</td>\n",
       "      <td>76.040255</td>\n",
       "      <td>21.959745</td>\n",
       "    </tr>\n",
       "    <tr>\n",
       "      <th>49002</th>\n",
       "      <td>173</td>\n",
       "      <td>89.0</td>\n",
       "      <td>78.525433</td>\n",
       "      <td>10.474567</td>\n",
       "    </tr>\n",
       "    <tr>\n",
       "      <th>49003</th>\n",
       "      <td>153</td>\n",
       "      <td>83.0</td>\n",
       "      <td>68.584721</td>\n",
       "      <td>14.415279</td>\n",
       "    </tr>\n",
       "    <tr>\n",
       "      <th>49004</th>\n",
       "      <td>156</td>\n",
       "      <td>66.0</td>\n",
       "      <td>70.075828</td>\n",
       "      <td>-4.075828</td>\n",
       "    </tr>\n",
       "  </tbody>\n",
       "</table>\n",
       "</div>"
      ],
      "text/plain": [
       "       height  weight  weight_pred   residual\n",
       "49000     165    60.0    74.549148 -14.549148\n",
       "49001     168    98.0    76.040255  21.959745\n",
       "49002     173    89.0    78.525433  10.474567\n",
       "49003     153    83.0    68.584721  14.415279\n",
       "49004     156    66.0    70.075828  -4.075828"
      ]
     },
     "execution_count": 273,
     "metadata": {},
     "output_type": "execute_result"
    }
   ],
   "source": [
    "# Test the model (predict weight)\n",
    "height_test = test_data[[\"height\"]]\n",
    "weight_test = test_data[\"weight\"]\n",
    "weight_pred = model.predict(height_test)\n",
    "test_data[\"weight_pred\"] = weight_pred\n",
    "\n",
    "# Calculate residuals\n",
    "test_data[\"residual\"] = test_data[\"weight\"] - test_data[\"weight_pred\"] \n",
    "test_data.head()"
   ]
  },
  {
   "cell_type": "markdown",
   "id": "0b230a69",
   "metadata": {},
   "source": [
    "Let's check the model for heteroscedasticity, that is, view a residual plot and check if there is a systematic pattern present. "
   ]
  },
  {
   "cell_type": "code",
   "execution_count": 274,
   "id": "30769d86",
   "metadata": {},
   "outputs": [
    {
     "data": {
      "image/png": "[encoded data removed]",
      "text/plain": [
       "<Figure size 640x480 with 1 Axes>"
      ]
     },
     "metadata": {},
     "output_type": "display_data"
    }
   ],
   "source": [
    "# Create residual plot\n",
    "plt.scatter(test_data[\"weight_pred\"], test_data[\"residual\"])\n",
    "plt.axhline(y=0, color=\"r\", linestyle=\"--\", linewidth=1)\n",
    "plt.xlabel(\"Predicted Weights\")\n",
    "plt.ylabel(\"Residuals\")\n",
    "plt.title(\"Residual Plot for Weight Prediction\")\n",
    "plt.show()"
   ]
  },
  {
   "cell_type": "code",
   "execution_count": 275,
   "id": "a784e947",
   "metadata": {},
   "outputs": [
    {
     "data": {
      "text/html": [
       "<div>\n",
       "<style scoped>\n",
       "    .dataframe tbody tr th:only-of-type {\n",
       "        vertical-align: middle;\n",
       "    }\n",
       "\n",
       "    .dataframe tbody tr th {\n",
       "        vertical-align: top;\n",
       "    }\n",
       "\n",
       "    .dataframe thead th {\n",
       "        text-align: right;\n",
       "    }\n",
       "</style>\n",
       "<table border=\"1\" class=\"dataframe\">\n",
       "  <thead>\n",
       "    <tr style=\"text-align: right;\">\n",
       "      <th></th>\n",
       "      <th>count</th>\n",
       "      <th>mean</th>\n",
       "      <th>std</th>\n",
       "      <th>min</th>\n",
       "      <th>25%</th>\n",
       "      <th>50%</th>\n",
       "      <th>75%</th>\n",
       "      <th>max</th>\n",
       "    </tr>\n",
       "  </thead>\n",
       "  <tbody>\n",
       "    <tr>\n",
       "      <th>residual</th>\n",
       "      <td>21000.0</td>\n",
       "      <td>-0.083241</td>\n",
       "      <td>13.849435</td>\n",
       "      <td>-64.549148</td>\n",
       "      <td>-9.549148</td>\n",
       "      <td>-2.561006</td>\n",
       "      <td>7.40935</td>\n",
       "      <td>120.770022</td>\n",
       "    </tr>\n",
       "  </tbody>\n",
       "</table>\n",
       "</div>"
      ],
      "text/plain": [
       "            count      mean        std        min       25%       50%  \\\n",
       "residual  21000.0 -0.083241  13.849435 -64.549148 -9.549148 -2.561006   \n",
       "\n",
       "              75%         max  \n",
       "residual  7.40935  120.770022  "
      ]
     },
     "execution_count": 275,
     "metadata": {},
     "output_type": "execute_result"
    }
   ],
   "source": [
    "# View descriptive stats about residuals\n",
    "test_data[\"residual\"].describe().to_frame().transpose()"
   ]
  },
  {
   "cell_type": "code",
   "execution_count": 276,
   "id": "54c1cad0",
   "metadata": {},
   "outputs": [
    {
     "data": {
      "text/html": [
       "<div>\n",
       "<style scoped>\n",
       "    .dataframe tbody tr th:only-of-type {\n",
       "        vertical-align: middle;\n",
       "    }\n",
       "\n",
       "    .dataframe tbody tr th {\n",
       "        vertical-align: top;\n",
       "    }\n",
       "\n",
       "    .dataframe thead th {\n",
       "        text-align: right;\n",
       "    }\n",
       "</style>\n",
       "<table border=\"1\" class=\"dataframe\">\n",
       "  <thead>\n",
       "    <tr style=\"text-align: right;\">\n",
       "      <th></th>\n",
       "      <th>count</th>\n",
       "      <th>mean</th>\n",
       "      <th>std</th>\n",
       "      <th>min</th>\n",
       "      <th>25%</th>\n",
       "      <th>50%</th>\n",
       "      <th>75%</th>\n",
       "      <th>max</th>\n",
       "    </tr>\n",
       "  </thead>\n",
       "  <tbody>\n",
       "    <tr>\n",
       "      <th>weight</th>\n",
       "      <td>70000.0</td>\n",
       "      <td>74.20569</td>\n",
       "      <td>14.395757</td>\n",
       "      <td>10.0</td>\n",
       "      <td>65.0</td>\n",
       "      <td>72.0</td>\n",
       "      <td>82.0</td>\n",
       "      <td>200.0</td>\n",
       "    </tr>\n",
       "  </tbody>\n",
       "</table>\n",
       "</div>"
      ],
      "text/plain": [
       "          count      mean        std   min   25%   50%   75%    max\n",
       "weight  70000.0  74.20569  14.395757  10.0  65.0  72.0  82.0  200.0"
      ]
     },
     "execution_count": 276,
     "metadata": {},
     "output_type": "execute_result"
    }
   ],
   "source": [
    "# View descriptive stats about weight in the original dataset\n",
    "df[\"weight\"].describe().to_frame().transpose()"
   ]
  },
  {
   "cell_type": "markdown",
   "id": "0e3ad037",
   "metadata": {},
   "source": [
    "<b>Heteroscedasticity:</b> We notice that there is a high-density circular area between about 65 and 85 kg, suggesting possible heteroscedasticity. \n",
    "\n",
    "<b>Accuracy of the model:</b> On first glance, the plot seems to show a bias toward overprediction, but this is not actually the case when we take a look at the mean of the residuals in the first table above. The mean residual is about -0.08, meaning that, on average, a given predicted weight is only ~0.08 kg off from the true weight. \n",
    "\n",
    "<b>Multicollinearity:</b> This is not a problem in the model, because there is only one independent variable. Multicollinearity is a phenomenon in which at least two independent variables in a model are strongly correlated, making it hard to isolate their effects on the dependent variable. By definition, this cannot be an issue for this model. \n",
    "\n",
    "Let's try applying a Box-Cox transformation to our residuals to see if they still exhibit this circular pattern. "
   ]
  },
  {
   "cell_type": "code",
   "execution_count": 277,
   "id": "4f533026",
   "metadata": {},
   "outputs": [
    {
     "data": {
      "image/png": "[encoded data removed]",
      "text/plain": [
       "<Figure size 640x480 with 1 Axes>"
      ]
     },
     "metadata": {},
     "output_type": "display_data"
    }
   ],
   "source": [
    "# Make residuals positive (required for Box-Cox) \n",
    "residuals = test_data[\"residual\"]\n",
    "positive_residuals = residuals - min(residuals) + 0.1\n",
    "new_residuals, lambda_val = boxcox(positive_residuals)\n",
    "\n",
    "# Plot the new residuals\n",
    "plt.scatter(weight_pred, new_residuals)\n",
    "plt.axhline(y=0, color=\"r\", linestyle=\"--\", linewidth=1)\n",
    "plt.xlabel(\"Predicted Weights\")\n",
    "plt.ylabel(\"Transformed Residuals\")\n",
    "plt.title(\"Residual Plot After Box-Cox Transformation\")\n",
    "plt.show()"
   ]
  },
  {
   "cell_type": "markdown",
   "id": "b6bb2b51",
   "metadata": {},
   "source": [
    "A Box-Cox transformation did not get rid of the relatively round cluster of values, it only moved it up and made it more horizontally oblong. This suggests that heteroscedasticity is not actually present, since transformations cannot get rid of it. "
   ]
  },
  {
   "cell_type": "markdown",
   "id": "277196af",
   "metadata": {},
   "source": [
    "### Task 4\n",
    "<b>Multiple Regression Model:</b> Continuing with the dataset from Task 3, build a multiple regression model to predict weight based on height and age. Perform model verification to determine potential issues, such as heteroscedasticity or multicollinearity, and address any identified issues. Write a report discussing your findings, including relevant statistics, visualizations, and interpretations. Use Python to perform the analysis and include the relevant code in a Jupyter notebook."
   ]
  },
  {
   "cell_type": "code",
   "execution_count": 278,
   "id": "ed9c6c10",
   "metadata": {},
   "outputs": [
    {
     "name": "stdout",
     "output_type": "stream",
     "text": [
      "Regression coefficients: [0.50753752 0.16144435]\n",
      "Intercept: -17.798\n"
     ]
    }
   ],
   "source": [
    "# Drop unnnecessary columns\n",
    "df_height_age_weight = df.drop(columns={\"id\", \"gender\"})\n",
    "\n",
    "# Split into train and test data; 70% for training and 30% for testing\n",
    "train_data = df_height_age_weight.iloc[:int(0.7*len(df_height_age_weight))].copy()\n",
    "test_data = df_height_age_weight.iloc[int(0.7*len(df_height_age_weight)):].copy()\n",
    "\n",
    "# Build and train the model\n",
    "predictor_train = train_data[[\"height\", \"age\"]]\n",
    "weight_train = train_data[\"weight\"]\n",
    "model = LinearRegression()\n",
    "model.fit(predictor_train, weight_train)\n",
    "\n",
    "# Print details of the model equation\n",
    "print(\"Regression coefficients:\", model.coef_)\n",
    "print(\"Intercept:\", str(round(model.intercept_, 3)))"
   ]
  },
  {
   "cell_type": "markdown",
   "id": "cd41c049",
   "metadata": {},
   "source": [
    "This time, our model equation is $w = 0.508h + 0.161a - 17.798$, where $w$ is weight, $h$ is height and $a$ is age."
   ]
  },
  {
   "cell_type": "code",
   "execution_count": 279,
   "id": "4a1d1048",
   "metadata": {},
   "outputs": [
    {
     "data": {
      "text/html": [
       "<div>\n",
       "<style scoped>\n",
       "    .dataframe tbody tr th:only-of-type {\n",
       "        vertical-align: middle;\n",
       "    }\n",
       "\n",
       "    .dataframe tbody tr th {\n",
       "        vertical-align: top;\n",
       "    }\n",
       "\n",
       "    .dataframe thead th {\n",
       "        text-align: right;\n",
       "    }\n",
       "</style>\n",
       "<table border=\"1\" class=\"dataframe\">\n",
       "  <thead>\n",
       "    <tr style=\"text-align: right;\">\n",
       "      <th></th>\n",
       "      <th>age</th>\n",
       "      <th>height</th>\n",
       "      <th>weight</th>\n",
       "      <th>weight_pred</th>\n",
       "      <th>residual</th>\n",
       "    </tr>\n",
       "  </thead>\n",
       "  <tbody>\n",
       "    <tr>\n",
       "      <th>49000</th>\n",
       "      <td>54</td>\n",
       "      <td>165</td>\n",
       "      <td>60.0</td>\n",
       "      <td>74.664142</td>\n",
       "      <td>-14.664142</td>\n",
       "    </tr>\n",
       "    <tr>\n",
       "      <th>49001</th>\n",
       "      <td>45</td>\n",
       "      <td>168</td>\n",
       "      <td>98.0</td>\n",
       "      <td>74.733755</td>\n",
       "      <td>23.266245</td>\n",
       "    </tr>\n",
       "    <tr>\n",
       "      <th>49002</th>\n",
       "      <td>50</td>\n",
       "      <td>173</td>\n",
       "      <td>89.0</td>\n",
       "      <td>78.078665</td>\n",
       "      <td>10.921335</td>\n",
       "    </tr>\n",
       "    <tr>\n",
       "      <th>49003</th>\n",
       "      <td>58</td>\n",
       "      <td>153</td>\n",
       "      <td>83.0</td>\n",
       "      <td>69.219469</td>\n",
       "      <td>13.780531</td>\n",
       "    </tr>\n",
       "    <tr>\n",
       "      <th>49004</th>\n",
       "      <td>60</td>\n",
       "      <td>156</td>\n",
       "      <td>66.0</td>\n",
       "      <td>71.064970</td>\n",
       "      <td>-5.064970</td>\n",
       "    </tr>\n",
       "  </tbody>\n",
       "</table>\n",
       "</div>"
      ],
      "text/plain": [
       "       age  height  weight  weight_pred   residual\n",
       "49000   54     165    60.0    74.664142 -14.664142\n",
       "49001   45     168    98.0    74.733755  23.266245\n",
       "49002   50     173    89.0    78.078665  10.921335\n",
       "49003   58     153    83.0    69.219469  13.780531\n",
       "49004   60     156    66.0    71.064970  -5.064970"
      ]
     },
     "execution_count": 279,
     "metadata": {},
     "output_type": "execute_result"
    }
   ],
   "source": [
    "# Test the model (predict weight given height and age)\n",
    "predictor_test = test_data[[\"height\", \"age\"]]\n",
    "weight_test = test_data[\"weight\"]\n",
    "weight_pred = model.predict(predictor_test)\n",
    "test_data[\"weight_pred\"] = weight_pred\n",
    "\n",
    "# Calculate residuals\n",
    "test_data[\"residual\"] = test_data[\"weight\"] - test_data[\"weight_pred\"] \n",
    "test_data.head()"
   ]
  },
  {
   "cell_type": "markdown",
   "id": "55edbfdd",
   "metadata": {},
   "source": [
    "Let's create a residual plot and see what the distribution looks like. "
   ]
  },
  {
   "cell_type": "code",
   "execution_count": 280,
   "id": "7d42ae54",
   "metadata": {},
   "outputs": [
    {
     "data": {
      "image/png": "[encoded data removed]",
      "text/plain": [
       "<Figure size 640x480 with 1 Axes>"
      ]
     },
     "metadata": {},
     "output_type": "display_data"
    }
   ],
   "source": [
    "# Create residual plot\n",
    "plt.scatter(test_data[\"weight_pred\"], test_data[\"residual\"])\n",
    "plt.axhline(y=0, color=\"r\", linestyle=\"--\", linewidth=1)\n",
    "plt.xlabel(\"Predicted Weights\")\n",
    "plt.ylabel(\"Residuals\")\n",
    "plt.title(\"Residual Plot for Weight Prediction\")\n",
    "plt.show()"
   ]
  },
  {
   "cell_type": "code",
   "execution_count": 281,
   "id": "20e153ef",
   "metadata": {},
   "outputs": [
    {
     "data": {
      "text/html": [
       "<div>\n",
       "<style scoped>\n",
       "    .dataframe tbody tr th:only-of-type {\n",
       "        vertical-align: middle;\n",
       "    }\n",
       "\n",
       "    .dataframe tbody tr th {\n",
       "        vertical-align: top;\n",
       "    }\n",
       "\n",
       "    .dataframe thead th {\n",
       "        text-align: right;\n",
       "    }\n",
       "</style>\n",
       "<table border=\"1\" class=\"dataframe\">\n",
       "  <thead>\n",
       "    <tr style=\"text-align: right;\">\n",
       "      <th></th>\n",
       "      <th>count</th>\n",
       "      <th>mean</th>\n",
       "      <th>std</th>\n",
       "      <th>min</th>\n",
       "      <th>25%</th>\n",
       "      <th>50%</th>\n",
       "      <th>75%</th>\n",
       "      <th>max</th>\n",
       "    </tr>\n",
       "  </thead>\n",
       "  <tbody>\n",
       "    <tr>\n",
       "      <th>residual</th>\n",
       "      <td>21000.0</td>\n",
       "      <td>-0.088236</td>\n",
       "      <td>13.799195</td>\n",
       "      <td>-64.341253</td>\n",
       "      <td>-9.583212</td>\n",
       "      <td>-2.664142</td>\n",
       "      <td>7.157771</td>\n",
       "      <td>122.264313</td>\n",
       "    </tr>\n",
       "  </tbody>\n",
       "</table>\n",
       "</div>"
      ],
      "text/plain": [
       "            count      mean        std        min       25%       50%  \\\n",
       "residual  21000.0 -0.088236  13.799195 -64.341253 -9.583212 -2.664142   \n",
       "\n",
       "               75%         max  \n",
       "residual  7.157771  122.264313  "
      ]
     },
     "execution_count": 281,
     "metadata": {},
     "output_type": "execute_result"
    }
   ],
   "source": [
    "# View descriptive stats about residuals\n",
    "test_data[\"residual\"].describe().to_frame().transpose()"
   ]
  },
  {
   "cell_type": "markdown",
   "id": "8cd24864",
   "metadata": {},
   "source": [
    "<b>Heteroscedasticity:</b> We see the same kind of circular pattern as in the simple linear regression model earlier. However, as we already established, this doesn't necessarily indicate heteroscedasticity, so there is no problem. \n",
    "\n",
    "<b>Accuracy of the model:</b> Again, our mean residual is very close to 0 (about -0.09), which means the model is highly accurate at predicting weight given height and age. On average, it is only under the true weight by about 0.09 kg. \n",
    "\n",
    "<b>Multicollinearity:</b> Because we are dealing with a multiple linear regression model now, there is the possibility of multicollinearity, or strong correlation between predictor variables. We can check this using a correlation matrix. "
   ]
  },
  {
   "cell_type": "code",
   "execution_count": 282,
   "id": "76ca27c7",
   "metadata": {},
   "outputs": [
    {
     "data": {
      "text/html": [
       "<div>\n",
       "<style scoped>\n",
       "    .dataframe tbody tr th:only-of-type {\n",
       "        vertical-align: middle;\n",
       "    }\n",
       "\n",
       "    .dataframe tbody tr th {\n",
       "        vertical-align: top;\n",
       "    }\n",
       "\n",
       "    .dataframe thead th {\n",
       "        text-align: right;\n",
       "    }\n",
       "</style>\n",
       "<table border=\"1\" class=\"dataframe\">\n",
       "  <thead>\n",
       "    <tr style=\"text-align: right;\">\n",
       "      <th></th>\n",
       "      <th>age</th>\n",
       "      <th>height</th>\n",
       "    </tr>\n",
       "  </thead>\n",
       "  <tbody>\n",
       "    <tr>\n",
       "      <th>age</th>\n",
       "      <td>1.000000</td>\n",
       "      <td>-0.087685</td>\n",
       "    </tr>\n",
       "    <tr>\n",
       "      <th>height</th>\n",
       "      <td>-0.087685</td>\n",
       "      <td>1.000000</td>\n",
       "    </tr>\n",
       "  </tbody>\n",
       "</table>\n",
       "</div>"
      ],
      "text/plain": [
       "             age    height\n",
       "age     1.000000 -0.087685\n",
       "height -0.087685  1.000000"
      ]
     },
     "execution_count": 282,
     "metadata": {},
     "output_type": "execute_result"
    }
   ],
   "source": [
    "# Get dataset with only predictor variables\n",
    "test_data_predictors_only = test_data.drop(columns={\"weight\", \"weight_pred\", \"residual\"})\n",
    "test_data_predictors_only.head()\n",
    "\n",
    "# Create the correlation matrix\n",
    "test_data_predictors_only.corr()"
   ]
  },
  {
   "cell_type": "markdown",
   "id": "3fa763cd",
   "metadata": {},
   "source": [
    "Fortunately, we only see a very weak negative correlation between height and age, so multicollinearity does not appear to be an issue in this model. "
   ]
  },
  {
   "cell_type": "markdown",
   "id": "734ea3c3",
   "metadata": {},
   "source": [
    "### Task 5\n",
    "<b>Solutions:</b> Identify and discuss two common assumptions of linear regression models. Using a dataset of your choice, build a linear regression model that violates one of these assumptions. Perform model verification to determine any violation and propose a solution to address the issue. Write a report discussing your findings, including relevant statistics, visualizations, and interpretations. Use Python to perform the analysis and include the relevant code in a Jupyter notebook."
   ]
  },
  {
   "cell_type": "markdown",
   "id": "4b2cfb37",
   "metadata": {},
   "source": [
    "<b>Assumption 1 (Linearity):</b> The relationship between the predictor variable(s) and the response variable is linear. If a dataset has data that looks exponential, logarithmic, quadratic, cubic, or any other nonlinear function type, then a linear regression model will likely be a poor representation of the data. \n",
    "\n",
    "<b>Assumption 2 (Independence of Residuals):</b> The residuals (errors) of the model do not exhibit any kind of systematic bias (conic shape, increasing or decreasing spread, unequal distribution, etc.) That is, the residual from one observation should not predict that for another observation. \n",
    "\n",
    "We will be exploring a violation of the first assumption of linearity below. "
   ]
  },
  {
   "cell_type": "code",
   "execution_count": 283,
   "id": "c245c8ef",
   "metadata": {},
   "outputs": [
    {
     "data": {
      "image/png": "[encoded data removed]",
      "text/plain": [
       "<Figure size 640x480 with 1 Axes>"
      ]
     },
     "metadata": {},
     "output_type": "display_data"
    }
   ],
   "source": [
    "# Generate synthetic dataset for an exponential function\n",
    "x = np.linspace(1, 10, 100)\n",
    "x_reshaped = np.reshape(x, (-1,1))\n",
    "np.random.seed(42)\n",
    "y = np.exp(2 * x) + np.random.normal(0, 0.5, size=len(x))\n",
    "\n",
    "# Create model\n",
    "model = LinearRegression()\n",
    "model.fit(x_reshaped, y)\n",
    "\n",
    "# Plot the data\n",
    "plt.scatter(x, y)\n",
    "plt.plot(x, model.predict(x_reshaped), color=\"red\", linewidth=2)\n",
    "plt.xlabel(\"x\")\n",
    "plt.ylabel(\"y\")\n",
    "plt.title(\"Violation of Linearity by Exponential Function $y=e^{2x}$\")\n",
    "plt.show()"
   ]
  },
  {
   "cell_type": "markdown",
   "id": "b2930168",
   "metadata": {},
   "source": [
    "The assumption of linearity is clearly violated in this example because we can see a linear regression line is a terrible fit for the data presented. Let's take a look at the residuals to see just how large the errors are. "
   ]
  },
  {
   "cell_type": "code",
   "execution_count": 284,
   "id": "f0a85e18",
   "metadata": {
    "scrolled": true
   },
   "outputs": [
    {
     "data": {
      "text/html": [
       "<div>\n",
       "<style scoped>\n",
       "    .dataframe tbody tr th:only-of-type {\n",
       "        vertical-align: middle;\n",
       "    }\n",
       "\n",
       "    .dataframe tbody tr th {\n",
       "        vertical-align: top;\n",
       "    }\n",
       "\n",
       "    .dataframe thead th {\n",
       "        text-align: right;\n",
       "    }\n",
       "</style>\n",
       "<table border=\"1\" class=\"dataframe\">\n",
       "  <thead>\n",
       "    <tr style=\"text-align: right;\">\n",
       "      <th></th>\n",
       "      <th>x</th>\n",
       "      <th>y</th>\n",
       "      <th>y_pred</th>\n",
       "      <th>residual</th>\n",
       "    </tr>\n",
       "  </thead>\n",
       "  <tbody>\n",
       "    <tr>\n",
       "      <th>0</th>\n",
       "      <td>1.000000</td>\n",
       "      <td>7.637413</td>\n",
       "      <td>-4.793851e+07</td>\n",
       "      <td>4.793852e+07</td>\n",
       "    </tr>\n",
       "    <tr>\n",
       "      <th>1</th>\n",
       "      <td>1.090909</td>\n",
       "      <td>8.793273</td>\n",
       "      <td>-4.638050e+07</td>\n",
       "      <td>4.638050e+07</td>\n",
       "    </tr>\n",
       "    <tr>\n",
       "      <th>2</th>\n",
       "      <td>1.181818</td>\n",
       "      <td>10.953378</td>\n",
       "      <td>-4.482248e+07</td>\n",
       "      <td>4.482249e+07</td>\n",
       "    </tr>\n",
       "    <tr>\n",
       "      <th>3</th>\n",
       "      <td>1.272727</td>\n",
       "      <td>13.510537</td>\n",
       "      <td>-4.326446e+07</td>\n",
       "      <td>4.326447e+07</td>\n",
       "    </tr>\n",
       "    <tr>\n",
       "      <th>4</th>\n",
       "      <td>1.363636</td>\n",
       "      <td>15.174050</td>\n",
       "      <td>-4.170644e+07</td>\n",
       "      <td>4.170646e+07</td>\n",
       "    </tr>\n",
       "  </tbody>\n",
       "</table>\n",
       "</div>"
      ],
      "text/plain": [
       "          x          y        y_pred      residual\n",
       "0  1.000000   7.637413 -4.793851e+07  4.793852e+07\n",
       "1  1.090909   8.793273 -4.638050e+07  4.638050e+07\n",
       "2  1.181818  10.953378 -4.482248e+07  4.482249e+07\n",
       "3  1.272727  13.510537 -4.326446e+07  4.326447e+07\n",
       "4  1.363636  15.174050 -4.170644e+07  4.170646e+07"
      ]
     },
     "execution_count": 284,
     "metadata": {},
     "output_type": "execute_result"
    }
   ],
   "source": [
    "# Calculate residuals\n",
    "exp_data = pd.DataFrame({\"x\": x, \"y\": y})\n",
    "exp_data[\"y_pred\"] = model.predict(x_reshaped)\n",
    "exp_data[\"residual\"] = exp_data[\"y\"] - exp_data[\"y_pred\"]\n",
    "exp_data.head()"
   ]
  },
  {
   "cell_type": "code",
   "execution_count": 285,
   "id": "9a9bd807",
   "metadata": {},
   "outputs": [
    {
     "data": {
      "image/png": "[encoded data removed]",
      "text/plain": [
       "<Figure size 640x480 with 1 Axes>"
      ]
     },
     "metadata": {},
     "output_type": "display_data"
    }
   ],
   "source": [
    "# Create residual plot\n",
    "plt.scatter(exp_data[\"y_pred\"], exp_data[\"residual\"])\n",
    "plt.axhline(y=0, color=\"r\", linestyle=\"--\", linewidth=1)\n",
    "plt.xlabel(\"Predicted Values\")\n",
    "plt.ylabel(\"Residuals\")\n",
    "plt.title(\"Residual Plot for Regression Line\")\n",
    "plt.xlim(0, 1e8)\n",
    "plt.show()"
   ]
  },
  {
   "cell_type": "markdown",
   "id": "b1e12daf",
   "metadata": {},
   "source": [
    "We can see a <i>very</i> clear pattern in the residuals, which is that they follow an exponential curve, just like the original function. This is because as $e^{2x}$ soars in value, the linear regression line cannot keep up, and so the errors grow quickly. "
   ]
  },
  {
   "cell_type": "markdown",
   "id": "21f019c0",
   "metadata": {},
   "source": [
    "### Task 6\n",
    "<b>Nonlinear Model:</b> Using the same dataset as in Task 5, propose a non-linear model to predict the response variable. Compare the performance of the non-linear model to that of the linear regression model built in Task 5, using appropriate metrics. Write a report discussing your findings, including relevant statistics, visualizations, and interpretations. Use Python to perform the analysis and include the relevant code in a Jupyter notebook.\n",
    "\n",
    "Strategy: \n",
    "1. Apply a log transformation to y ($y = log(y)$). \n",
    "2. Fit a linear regression model to the log-transformed y data. \n",
    "3. Make predictions based on the log-transformed data. \n",
    "4. Transform the predictions back into the original scale. $y_{pred} = e^{y_{pred log}}$. "
   ]
  },
  {
   "cell_type": "code",
   "execution_count": 286,
   "id": "37edf8b1",
   "metadata": {},
   "outputs": [
    {
     "data": {
      "image/png": "[encoded data removed]",
      "text/plain": [
       "<Figure size 640x480 with 1 Axes>"
      ]
     },
     "metadata": {},
     "output_type": "display_data"
    }
   ],
   "source": [
    "# Apply log transformation to y data\n",
    "y_log = np.log(y)\n",
    "\n",
    "# Fit a new model to the data\n",
    "nonlin_model = LinearRegression()\n",
    "nonlin_model.fit(x_reshaped, y_log)\n",
    "\n",
    "# Make predictions with new model\n",
    "y_pred_log = nonlin_model.predict(x_reshaped)\n",
    "\n",
    "# Transform predictions back to original scale\n",
    "y_pred = np.exp(y_pred_log)\n",
    "\n",
    "# Plot the results\n",
    "plt.scatter(x, y)\n",
    "plt.plot(x, y_pred, label=\"Fitted Model\", color=\"red\")\n",
    "plt.xlabel(\"x\")\n",
    "plt.ylabel(\"y\")\n",
    "plt.title(\"New Model Employing Log Transformation\")\n",
    "plt.show()"
   ]
  },
  {
   "cell_type": "markdown",
   "id": "93e201d7",
   "metadata": {},
   "source": [
    "It looks as if this new nonlinear model is an excellent fit for our data. Let's look at a residual plot: "
   ]
  },
  {
   "cell_type": "code",
   "execution_count": 287,
   "id": "68e1cea0",
   "metadata": {},
   "outputs": [
    {
     "data": {
      "image/png": "[encoded data removed]",
      "text/plain": [
       "<Figure size 640x480 with 1 Axes>"
      ]
     },
     "metadata": {},
     "output_type": "display_data"
    }
   ],
   "source": [
    "# Calculate residuals\n",
    "residuals = y - y_pred\n",
    "\n",
    "# Create residual plot\n",
    "plt.scatter(y_pred, residuals)\n",
    "plt.axhline(y=0, color=\"r\", linestyle=\"--\", linewidth=1)\n",
    "plt.xlabel(\"Predicted Values\")\n",
    "plt.ylabel(\"Residuals\")\n",
    "plt.title(\"Residual Plot for Log Transformation Model\")\n",
    "plt.xlim(0, 1e8)\n",
    "plt.show()"
   ]
  },
  {
   "cell_type": "markdown",
   "id": "ba798af1",
   "metadata": {},
   "source": [
    "This residual plot looks more forgiving, with residuals increasing at a linear rate rather than exponential like in the first plot. We can see that around $x = 1e8$, we only have a residual of about $0.2e6$, whereas in the first plot, at the same x-value we had a residual of about $1.5e8$, which is approximately 750 times larger. Along with the apparent close fit of the new model, we can conclude that a nonlinear model provides a night-and-day better approximation of our data. "
   ]
  }
 ],
 "metadata": {
  "kernelspec": {
   "display_name": "Python 3 (ipykernel)",
   "language": "python",
   "name": "python3"
  },
  "language_info": {
   "codemirror_mode": {
    "name": "ipython",
    "version": 3
   },
   "file_extension": ".py",
   "mimetype": "text/x-python",
   "name": "python",
   "nbconvert_exporter": "python",
   "pygments_lexer": "ipython3",
   "version": "3.11.5"
  }
 },
 "nbformat": 4,
 "nbformat_minor": 5
}
